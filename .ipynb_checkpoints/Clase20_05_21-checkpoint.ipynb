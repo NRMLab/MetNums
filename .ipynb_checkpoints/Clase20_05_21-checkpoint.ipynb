{
 "cells": [
  {
   "cell_type": "code",
   "execution_count": 6,
   "metadata": {
    "id": "wO3n0iwnhass"
   },
   "outputs": [],
   "source": [
    "!pip install sympy\n",
    "from sympy import *\n",
    "import math\n",
    "from MetNum import *\n",
    "import pandas as pd"
   ]
  },
  {
   "cell_type": "code",
   "execution_count": 39,
   "metadata": {
    "colab": {
     "base_uri": "https://localhost:8080/",
     "height": 145
    },
    "id": "8JaFlvWqgp0-",
    "outputId": "3908c9d6-ff72-4d00-9254-6b50ac483614"
   },
   "outputs": [
    {
     "name": "stdout",
     "output_type": "stream",
     "text": [
      "2.02699540652255\n",
      "2.02690572928171\n"
     ]
    },
    {
     "data": {
      "text/html": [
       "<div>\n",
       "<style scoped>\n",
       "    .dataframe tbody tr th:only-of-type {\n",
       "        vertical-align: middle;\n",
       "    }\n",
       "\n",
       "    .dataframe tbody tr th {\n",
       "        vertical-align: top;\n",
       "    }\n",
       "\n",
       "    .dataframe thead th {\n",
       "        text-align: right;\n",
       "    }\n",
       "</style>\n",
       "<table border=\"1\" class=\"dataframe\">\n",
       "  <thead>\n",
       "    <tr style=\"text-align: right;\">\n",
       "      <th></th>\n",
       "      <th>x_i</th>\n",
       "      <th>f(x)</th>\n",
       "    </tr>\n",
       "  </thead>\n",
       "  <tbody>\n",
       "    <tr>\n",
       "      <th>0</th>\n",
       "      <td>2.02699540652255</td>\n",
       "      <td>0.00226884037455252</td>\n",
       "    </tr>\n",
       "    <tr>\n",
       "      <th>1</th>\n",
       "      <td>2.02690572928171</td>\n",
       "      <td>2.45834337754500e-8</td>\n",
       "    </tr>\n",
       "  </tbody>\n",
       "</table>\n",
       "</div>"
      ],
      "text/plain": [
       "                x_i                 f(x)\n",
       "0  2.02699540652255  0.00226884037455252\n",
       "1  2.02690572928171  2.45834337754500e-8"
      ]
     },
     "execution_count": 39,
     "metadata": {
      "tags": []
     },
     "output_type": "execute_result"
    }
   ],
   "source": [
    "# Ejercicio 1 Volumen. \n",
    "R = 3\n",
    "L = 30\n",
    "V=2\n",
    "X = Symbol('X')\n",
    "# func = (lambda x: (P*(x**3))-(P*b+R*T)*(x**2)+(a*x)-(a*b))\n",
    "funcion = ((math.pi*(X**2))*((3*R-X)/3))-L\n",
    "MN_NRQuim(funcion, V)"
   ]
  },
  {
   "cell_type": "code",
   "execution_count": 3,
   "metadata": {
    "colab": {
     "base_uri": "https://localhost:8080/",
     "height": 179
    },
    "id": "4ksvV52kCsZc",
    "outputId": "51f8ad68-2687-4813-a347-63eab191946c"
   },
   "outputs": [
    {
     "name": "stdout",
     "output_type": "stream",
     "text": [
      "-50 - 0.44423142919703/X**2 - 0.557462759976435/X**3 + 8.14032289433015e-14/X**4\n",
      "-50 - 0.44423142919703/X**2 - 0.557462759976435/X**3 + 8.14032289433015e-14/X**4\n",
      "0.639734227084210\n",
      "0.639841494206279\n"
     ]
    },
    {
     "data": {
      "text/html": [
       "<div>\n",
       "<style scoped>\n",
       "    .dataframe tbody tr th:only-of-type {\n",
       "        vertical-align: middle;\n",
       "    }\n",
       "\n",
       "    .dataframe tbody tr th {\n",
       "        vertical-align: top;\n",
       "    }\n",
       "\n",
       "    .dataframe thead th {\n",
       "        text-align: right;\n",
       "    }\n",
       "</style>\n",
       "<table border=\"1\" class=\"dataframe\">\n",
       "  <thead>\n",
       "    <tr style=\"text-align: right;\">\n",
       "      <th></th>\n",
       "      <th>x_i</th>\n",
       "      <th>f(x)</th>\n",
       "    </tr>\n",
       "  </thead>\n",
       "  <tbody>\n",
       "    <tr>\n",
       "      <th>0</th>\n",
       "      <td>0.639734227084210</td>\n",
       "      <td>0.00570818277141087</td>\n",
       "    </tr>\n",
       "    <tr>\n",
       "      <th>1</th>\n",
       "      <td>0.639841494206279</td>\n",
       "      <td>7.69504142820573e-8</td>\n",
       "    </tr>\n",
       "  </tbody>\n",
       "</table>\n",
       "</div>"
      ],
      "text/plain": [
       "                 x_i                 f(x)\n",
       "0  0.639734227084210  0.00570818277141087\n",
       "1  0.639841494206279  7.69504142820573e-8"
      ]
     },
     "execution_count": 3,
     "metadata": {
      "tags": []
     },
     "output_type": "execute_result"
    }
   ],
   "source": [
    "\"H2 - 50 atm - 100°C\"\n",
    "V = 0.612093\n",
    "P = 50\n",
    "T = 373.15\n",
    "A0 = 0.1975\n",
    "a = -0.00506\n",
    "B0 = 0.02096\n",
    "b = -0.43590\n",
    "c = 0.00000504\n",
    "R = 0.08205\n",
    "X = Symbol('X')\n",
    "beta = R*T*B0-A0-((R*c)/(T**2))\n",
    "gamma = -R*T*B0*b+A0*a-((R*B0*c)/(T**2))\n",
    "delta = (R*B0*b*c)/(T**2)\n",
    "funcion = R*T-P*X+(beta/X)+(gamma/X**2)+(delta/X**3)\n",
    "MN_NRQuim(funcion, V)"
   ]
  },
  {
   "cell_type": "code",
   "execution_count": 7,
   "metadata": {
    "id": "Bvh9-3N1e_i_"
   },
   "outputs": [],
   "source": [
    "def Newton_Raphson(x_0,P,R,T,beta,gamma,delta):\n",
    "    gxs = []\n",
    "    results = [] \n",
    "    fin = 1\n",
    "    while fin == 1:\n",
    "        x_0 = x_0 - ((-(P*x_0)+(R*T)+(beta/x_0)+(gamma/(x_0**2))+(delta/(x_0**3))) / (-P-(beta/(x_0**2))-((2*gamma)/(x_0**3))-((3*delta)/(x_0**4))))\n",
    "        resu =  -(P*x_0)+(R*T)+(beta/x_0)+(gamma/(x_0**2))+(delta/(x_0**3))\n",
    "        print(x_0)\n",
    "        gxs.append(x_0)\n",
    "        results.append(resu) \n",
    "        if -0.0000001 < resu < 0.0000001:\n",
    "            fin = 0 \n",
    "\n",
    "    allres = { 'x_i': gxs,\n",
    "                'f(x)': results}\n",
    "\n",
    "    allresdf = pd.DataFrame(allres)\n",
    "    return allresdf"
   ]
  },
  {
   "cell_type": "code",
   "execution_count": 8,
   "metadata": {
    "colab": {
     "base_uri": "https://localhost:8080/",
     "height": 145
    },
    "id": "QngGARBLdqUT",
    "outputId": "cbe94893-3455-49fa-eb7a-160536a5a880"
   },
   "outputs": [
    {
     "name": "stdout",
     "output_type": "stream",
     "text": [
      "0.6254155217346812\n",
      "0.6254216545192016\n"
     ]
    },
    {
     "data": {
      "text/html": [
       "<div>\n",
       "<style scoped>\n",
       "    .dataframe tbody tr th:only-of-type {\n",
       "        vertical-align: middle;\n",
       "    }\n",
       "\n",
       "    .dataframe tbody tr th {\n",
       "        vertical-align: top;\n",
       "    }\n",
       "\n",
       "    .dataframe thead th {\n",
       "        text-align: right;\n",
       "    }\n",
       "</style>\n",
       "<table border=\"1\" class=\"dataframe\">\n",
       "  <thead>\n",
       "    <tr style=\"text-align: right;\">\n",
       "      <th></th>\n",
       "      <th>x_i</th>\n",
       "      <th>f(x)</th>\n",
       "    </tr>\n",
       "  </thead>\n",
       "  <tbody>\n",
       "    <tr>\n",
       "      <th>0</th>\n",
       "      <td>0.625416</td>\n",
       "      <td>3.130860e-04</td>\n",
       "    </tr>\n",
       "    <tr>\n",
       "      <th>1</th>\n",
       "      <td>0.625422</td>\n",
       "      <td>6.353182e-11</td>\n",
       "    </tr>\n",
       "  </tbody>\n",
       "</table>\n",
       "</div>"
      ],
      "text/plain": [
       "        x_i          f(x)\n",
       "0  0.625416  3.130860e-04\n",
       "1  0.625422  6.353182e-11"
      ]
     },
     "execution_count": 8,
     "metadata": {
      "tags": []
     },
     "output_type": "execute_result"
    }
   ],
   "source": [
    "# Para Helio\n",
    "V = 0.612093\n",
    "x_0 = V\n",
    "P = 50\n",
    "T = 373.15\n",
    "A0 = 0.0216\n",
    "a = 0.05984\n",
    "B0 = 0.01400\n",
    "b = 0\n",
    "c = 0.00000040\n",
    "R = 0.08205\n",
    "\n",
    "beta = R*T*B0-A0-((R*c)/(T**2))\n",
    "gamma = -R*T*B0*b+A0*a-((R*B0*c)/(T**2))\n",
    "delta = (R*B0*b*c)/(T**2)\n",
    "Newton_Raphson(x_0,P,R,T,beta,gamma,delta)"
   ]
  },
  {
   "cell_type": "code",
   "execution_count": 9,
   "metadata": {
    "colab": {
     "base_uri": "https://localhost:8080/",
     "height": 145
    },
    "id": "jrJSMeqnfZ1v",
    "outputId": "8989cac0-45b0-46f5-e32f-d87410f15074"
   },
   "outputs": [
    {
     "name": "stdout",
     "output_type": "stream",
     "text": [
      "0.6397342270842103\n",
      "0.6398414942062791\n"
     ]
    },
    {
     "data": {
      "text/html": [
       "<div>\n",
       "<style scoped>\n",
       "    .dataframe tbody tr th:only-of-type {\n",
       "        vertical-align: middle;\n",
       "    }\n",
       "\n",
       "    .dataframe tbody tr th {\n",
       "        vertical-align: top;\n",
       "    }\n",
       "\n",
       "    .dataframe thead th {\n",
       "        text-align: right;\n",
       "    }\n",
       "</style>\n",
       "<table border=\"1\" class=\"dataframe\">\n",
       "  <thead>\n",
       "    <tr style=\"text-align: right;\">\n",
       "      <th></th>\n",
       "      <th>x_i</th>\n",
       "      <th>f(x)</th>\n",
       "    </tr>\n",
       "  </thead>\n",
       "  <tbody>\n",
       "    <tr>\n",
       "      <th>0</th>\n",
       "      <td>0.639734</td>\n",
       "      <td>5.708183e-03</td>\n",
       "    </tr>\n",
       "    <tr>\n",
       "      <th>1</th>\n",
       "      <td>0.639841</td>\n",
       "      <td>7.695041e-08</td>\n",
       "    </tr>\n",
       "  </tbody>\n",
       "</table>\n",
       "</div>"
      ],
      "text/plain": [
       "        x_i          f(x)\n",
       "0  0.639734  5.708183e-03\n",
       "1  0.639841  7.695041e-08"
      ]
     },
     "execution_count": 9,
     "metadata": {
      "tags": []
     },
     "output_type": "execute_result"
    }
   ],
   "source": [
    "# Hidrogeno H2\n",
    "V = 0.612093\n",
    "x_0 = V\n",
    "P = 50\n",
    "T = 373.15\n",
    "A0 = 0.1975\n",
    "a = -0.00506\n",
    "B0 = 0.02096\n",
    "b = -0.43590\n",
    "c = 0.00000504\n",
    "R = 0.08205\n",
    "\n",
    "beta = R*T*B0-A0-((R*c)/(T**2))\n",
    "gamma = -R*T*B0*b+A0*a-((R*B0*c)/(T**2))\n",
    "delta = (R*B0*b*c)/(T**2)\n",
    "Newton_Raphson(x_0,P,R,T,beta,gamma,delta)"
   ]
  },
  {
   "cell_type": "code",
   "execution_count": 10,
   "metadata": {
    "colab": {
     "base_uri": "https://localhost:8080/",
     "height": 97
    },
    "id": "6IF8oG-jfrwG",
    "outputId": "b0b7476a-6510-47f4-a276-b3058965a6d5"
   },
   "outputs": [
    {
     "name": "stdout",
     "output_type": "stream",
     "text": [
      "0.6115984647943369\n"
     ]
    },
    {
     "data": {
      "text/html": [
       "<div>\n",
       "<style scoped>\n",
       "    .dataframe tbody tr th:only-of-type {\n",
       "        vertical-align: middle;\n",
       "    }\n",
       "\n",
       "    .dataframe tbody tr th {\n",
       "        vertical-align: top;\n",
       "    }\n",
       "\n",
       "    .dataframe thead th {\n",
       "        text-align: right;\n",
       "    }\n",
       "</style>\n",
       "<table border=\"1\" class=\"dataframe\">\n",
       "  <thead>\n",
       "    <tr style=\"text-align: right;\">\n",
       "      <th></th>\n",
       "      <th>x_i</th>\n",
       "      <th>f(x)</th>\n",
       "    </tr>\n",
       "  </thead>\n",
       "  <tbody>\n",
       "    <tr>\n",
       "      <th>0</th>\n",
       "      <td>0.611598</td>\n",
       "      <td>8.827609e-08</td>\n",
       "    </tr>\n",
       "  </tbody>\n",
       "</table>\n",
       "</div>"
      ],
      "text/plain": [
       "        x_i          f(x)\n",
       "0  0.611598  8.827609e-08"
      ]
     },
     "execution_count": 10,
     "metadata": {
      "tags": []
     },
     "output_type": "execute_result"
    }
   ],
   "source": [
    "# Oxigeno Diatomico O2\n",
    "V = 0.612093\n",
    "x_0 = V\n",
    "P = 50\n",
    "T = 373.15\n",
    "A0 = 1.4911\n",
    "a = 0.02562\n",
    "B0 = 0.04624\n",
    "b = 0.004208\n",
    "c = 0.00048\n",
    "R = 0.08205\n",
    "\n",
    "beta = R*T*B0-A0-((R*c)/(T**2))\n",
    "gamma = -R*T*B0*b+A0*a-((R*B0*c)/(T**2))\n",
    "delta = (R*B0*b*c)/(T**2)\n",
    "Newton_Raphson(x_0,P,R,T,beta,gamma,delta)"
   ]
  },
  {
   "cell_type": "code",
   "execution_count": 10,
   "metadata": {
    "colab": {
     "base_uri": "https://localhost:8080/"
    },
    "id": "tR_zUpMbFF0a",
    "outputId": "a404f863-d19f-4318-b1ab-28a8042122ae"
   },
   "outputs": [
    {
     "data": {
      "text/plain": [
       "0.94144"
      ]
     },
     "execution_count": 10,
     "metadata": {
      "tags": []
     },
     "output_type": "execute_result"
    }
   ],
   "source": [
    "(0.9414**2+0.88**2+8)/10"
   ]
  },
  {
   "cell_type": "code",
   "execution_count": 11,
   "metadata": {
    "colab": {
     "base_uri": "https://localhost:8080/"
    },
    "id": "dlyirbywFMHl",
    "outputId": "e3428de9-d75a-4d49-acc0-e881eaf7cc4e"
   },
   "outputs": [
    {
     "data": {
      "text/plain": [
       "0.9767199999999999"
      ]
     },
     "execution_count": 11,
     "metadata": {
      "tags": []
     },
     "output_type": "execute_result"
    }
   ],
   "source": [
    "((0.94*0.88)+0.94+8)/10"
   ]
  },
  {
   "cell_type": "code",
   "execution_count": 16,
   "metadata": {
    "colab": {
     "base_uri": "https://localhost:8080/"
    },
    "id": "MMy7dbe9F3yW",
    "outputId": "4740466e-aa91-49b1-a5c6-943f0252fe94"
   },
   "outputs": [
    {
     "name": "stdout",
     "output_type": "stream",
     "text": [
      "it:  0 x:  0.8 y:  0.8800000000000001\n",
      "it:  1 x:  0.94144 y:  0.9670491136000001\n",
      "it:  2 x:  0.9821493261714546 y:  0.9900639649944489\n",
      "it:  3 x:  0.9944843953679572 y:  0.9969304507470926\n",
      "it:  4 x:  0.9982869536257173 y:  0.9990454731298122\n",
      "it:  5 x:  0.9994668699160485 y:  0.9997026614501502\n",
      "it:  6 x:  0.9998339435370298 y:  0.9999073397119869\n",
      "it:  7 x:  0.9999482602658711 y:  0.9999711218129639\n",
      "it:  8 x:  0.9999838767668621 y:  0.9999909998924806\n",
      "it:  9 x:  0.9999949753659646 y:  0.9999971950688338\n",
      "it:  10 x:  0.9999984340902712 y:  0.9999991258334863\n",
      "it:  11 x:  0.9999995119850731 y:  0.9999997275638736\n",
      "it:  12 x:  0.9999998479098207 y:  0.9999999150947545\n",
      "it:  13 x:  0.999999952600918 y:  0.999999973539136\n",
      "it:  14 x:  0.999999985228011 y:  0.9999999917534297\n",
      "it:  15 x:  0.9999999953962881 y:  0.9999999974299436\n",
      "it:  16 x:  0.9999999985652464 y:  0.999999999199038\n",
      "it:  17 x:  0.9999999995528569 y:  0.999999999750379\n",
      "it:  18 x:  0.9999999998606471 y:  0.9999999999222051\n",
      "it:  19 x:  0.9999999999565704 y:  0.9999999999757551\n",
      "it:  20 x:  0.999999999986465 y:  0.999999999992444\n",
      "it:  21 x:  0.9999999999957818 y:  0.9999999999976452\n",
      "it:  22 x:  0.9999999999986855 y:  0.9999999999992661\n",
      "it:  23 x:  0.9999999999995903 y:  0.9999999999997712\n",
      "it:  24 x:  0.9999999999998723 y:  0.9999999999999287\n",
      "it:  25 x:  0.9999999999999603 y:  0.9999999999999778\n",
      "it:  26 x:  0.9999999999999876 y:  0.9999999999999931\n",
      "it:  27 x:  0.9999999999999961 y:  0.9999999999999979\n",
      "it:  28 x:  0.9999999999999988 y:  0.9999999999999993\n",
      "it:  29 x:  0.9999999999999997 y:  0.9999999999999998\n",
      "it:  30 x:  0.9999999999999998 y:  1.0\n",
      "it:  31 x:  1.0 y:  1.0\n",
      "it:  32 x:  1.0 y:  1.0\n",
      "it:  33 x:  1.0 y:  1.0\n",
      "it:  34 x:  1.0 y:  1.0\n",
      "it:  35 x:  1.0 y:  1.0\n",
      "it:  36 x:  1.0 y:  1.0\n",
      "it:  37 x:  1.0 y:  1.0\n",
      "it:  38 x:  1.0 y:  1.0\n",
      "it:  39 x:  1.0 y:  1.0\n",
      "it:  40 x:  1.0 y:  1.0\n",
      "it:  41 x:  1.0 y:  1.0\n",
      "it:  42 x:  1.0 y:  1.0\n",
      "it:  43 x:  1.0 y:  1.0\n",
      "it:  44 x:  1.0 y:  1.0\n",
      "it:  45 x:  1.0 y:  1.0\n",
      "it:  46 x:  1.0 y:  1.0\n",
      "it:  47 x:  1.0 y:  1.0\n",
      "it:  48 x:  1.0 y:  1.0\n",
      "it:  49 x:  1.0 y:  1.0\n",
      "it:  50 x:  1.0 y:  1.0\n",
      "it:  51 x:  1.0 y:  1.0\n",
      "it:  52 x:  1.0 y:  1.0\n",
      "it:  53 x:  1.0 y:  1.0\n",
      "it:  54 x:  1.0 y:  1.0\n",
      "it:  55 x:  1.0 y:  1.0\n",
      "it:  56 x:  1.0 y:  1.0\n",
      "it:  57 x:  1.0 y:  1.0\n",
      "it:  58 x:  1.0 y:  1.0\n",
      "it:  59 x:  1.0 y:  1.0\n",
      "it:  60 x:  1.0 y:  1.0\n",
      "it:  61 x:  1.0 y:  1.0\n",
      "it:  62 x:  1.0 y:  1.0\n",
      "it:  63 x:  1.0 y:  1.0\n",
      "it:  64 x:  1.0 y:  1.0\n",
      "it:  65 x:  1.0 y:  1.0\n",
      "it:  66 x:  1.0 y:  1.0\n",
      "it:  67 x:  1.0 y:  1.0\n",
      "it:  68 x:  1.0 y:  1.0\n",
      "it:  69 x:  1.0 y:  1.0\n",
      "it:  70 x:  1.0 y:  1.0\n",
      "it:  71 x:  1.0 y:  1.0\n",
      "it:  72 x:  1.0 y:  1.0\n",
      "it:  73 x:  1.0 y:  1.0\n",
      "it:  74 x:  1.0 y:  1.0\n",
      "it:  75 x:  1.0 y:  1.0\n",
      "it:  76 x:  1.0 y:  1.0\n",
      "it:  77 x:  1.0 y:  1.0\n",
      "it:  78 x:  1.0 y:  1.0\n",
      "it:  79 x:  1.0 y:  1.0\n",
      "it:  80 x:  1.0 y:  1.0\n",
      "it:  81 x:  1.0 y:  1.0\n",
      "it:  82 x:  1.0 y:  1.0\n",
      "it:  83 x:  1.0 y:  1.0\n",
      "it:  84 x:  1.0 y:  1.0\n",
      "it:  85 x:  1.0 y:  1.0\n",
      "it:  86 x:  1.0 y:  1.0\n",
      "it:  87 x:  1.0 y:  1.0\n",
      "it:  88 x:  1.0 y:  1.0\n",
      "it:  89 x:  1.0 y:  1.0\n",
      "it:  90 x:  1.0 y:  1.0\n",
      "it:  91 x:  1.0 y:  1.0\n",
      "it:  92 x:  1.0 y:  1.0\n",
      "it:  93 x:  1.0 y:  1.0\n",
      "it:  94 x:  1.0 y:  1.0\n",
      "it:  95 x:  1.0 y:  1.0\n",
      "it:  96 x:  1.0 y:  1.0\n",
      "it:  97 x:  1.0 y:  1.0\n",
      "it:  98 x:  1.0 y:  1.0\n",
      "it:  99 x:  1.0 y:  1.0\n"
     ]
    }
   ],
   "source": [
    "xn = 0\n",
    "yn = 0\n",
    "\n",
    "\n",
    "for i in range(100):\n",
    "  xn = (xn**2+yn**2+8)/10\n",
    "  yn = (xn*yn**2+xn+8)/10\n",
    "  print('it: ', i, 'x: ',xn, 'y: ', yn)\n",
    "  # for if -0.00001 < yn  < 0.00001 and -0.00001 < xn  < 0.00001:\n",
    "  #         fin =0\n",
    "\n"
   ]
  },
  {
   "cell_type": "code",
   "execution_count": 31,
   "metadata": {
    "colab": {
     "base_uri": "https://localhost:8080/",
     "height": 231
    },
    "id": "B7sDsMfTHWyJ",
    "outputId": "1bd0cb58-a2e9-4fe5-f93d-784926d36398"
   },
   "outputs": [
    {
     "ename": "ZeroDivisionError",
     "evalue": "ignored",
     "output_type": "error",
     "traceback": [
      "\u001b[0;31m---------------------------------------------------------------------------\u001b[0m",
      "\u001b[0;31mZeroDivisionError\u001b[0m                         Traceback (most recent call last)",
      "\u001b[0;32m<ipython-input-31-65d119855ca8>\u001b[0m in \u001b[0;36m<module>\u001b[0;34m()\u001b[0m\n\u001b[1;32m      5\u001b[0m \u001b[0;34m\u001b[0m\u001b[0m\n\u001b[1;32m      6\u001b[0m \u001b[0;32mfor\u001b[0m \u001b[0mi\u001b[0m \u001b[0;32min\u001b[0m \u001b[0mrange\u001b[0m\u001b[0;34m(\u001b[0m\u001b[0;36m100\u001b[0m\u001b[0;34m)\u001b[0m\u001b[0;34m:\u001b[0m\u001b[0;34m\u001b[0m\u001b[0;34m\u001b[0m\u001b[0m\n\u001b[0;32m----> 7\u001b[0;31m   \u001b[0mxn\u001b[0m \u001b[0;34m=\u001b[0m \u001b[0;34m(\u001b[0m\u001b[0mxn\u001b[0m\u001b[0;34m**\u001b[0m\u001b[0;36m2\u001b[0m\u001b[0;34m-\u001b[0m\u001b[0myn\u001b[0m\u001b[0;34m)\u001b[0m\u001b[0;34m/\u001b[0m\u001b[0;34m(\u001b[0m\u001b[0;36m5\u001b[0m\u001b[0;34m*\u001b[0m\u001b[0myn\u001b[0m\u001b[0;34m)\u001b[0m\u001b[0;34m\u001b[0m\u001b[0;34m\u001b[0m\u001b[0m\n\u001b[0m\u001b[1;32m      8\u001b[0m   \u001b[0myn\u001b[0m \u001b[0;34m=\u001b[0m \u001b[0;34m-\u001b[0m\u001b[0;34m(\u001b[0m\u001b[0mxn\u001b[0m\u001b[0;34m**\u001b[0m\u001b[0;36m2\u001b[0m\u001b[0;34m)\u001b[0m\u001b[0;34m+\u001b[0m\u001b[0mxn\u001b[0m\u001b[0;34m+\u001b[0m\u001b[0;36m0.75\u001b[0m\u001b[0;34m\u001b[0m\u001b[0;34m\u001b[0m\u001b[0m\n\u001b[1;32m      9\u001b[0m   \u001b[0mprint\u001b[0m\u001b[0;34m(\u001b[0m\u001b[0;34m'it: '\u001b[0m\u001b[0;34m,\u001b[0m \u001b[0mi\u001b[0m\u001b[0;34m,\u001b[0m \u001b[0;34m'x: '\u001b[0m\u001b[0;34m,\u001b[0m\u001b[0mxn\u001b[0m\u001b[0;34m,\u001b[0m \u001b[0;34m'y: '\u001b[0m\u001b[0;34m,\u001b[0m \u001b[0myn\u001b[0m\u001b[0;34m)\u001b[0m\u001b[0;34m\u001b[0m\u001b[0;34m\u001b[0m\u001b[0m\n",
      "\u001b[0;31mZeroDivisionError\u001b[0m: division by zero"
     ]
    }
   ],
   "source": [
    "import math \n",
    "xn = 0\n",
    "yn = 0\n",
    "\n",
    "\n",
    "for i in range(100):\n",
    "  xn = (xn**2-yn)/(5*yn)\n",
    "  yn = -(xn**2)+xn+0.75\n",
    "  print('it: ', i, 'x: ',xn, 'y: ', yn)\n",
    "  # for if -0.00001 < yn  < 0.00001 and -0.00001 < xn  < 0.00001:\n",
    "  #         fin =0"
   ]
  },
  {
   "cell_type": "code",
   "execution_count": 35,
   "metadata": {
    "colab": {
     "base_uri": "https://localhost:8080/"
    },
    "id": "orEstM2NI8GU",
    "outputId": "22f4b8b5-ca97-4e8b-91db-238359b59f95"
   },
   "outputs": [
    {
     "name": "stdout",
     "output_type": "stream",
     "text": [
      "it:  0 x:  -0.2 y:  0.75\n",
      "it:  1 x:  -0.1864406779661017 y:  0.59\n",
      "it:  2 x:  -0.18838074660905052 y:  0.5983194484343579\n",
      "it:  3 x:  -0.18811357699790565 y:  0.5971065590839328\n",
      "it:  4 x:  -0.18815057452595083 y:  0.5972731408530414\n",
      "it:  5 x:  -0.18814545503859226 y:  0.5972500641684946\n",
      "it:  6 x:  -0.18814616351634247 y:  0.5972532572130866\n",
      "it:  7 x:  -0.1881460654726644 y:  0.5972528153295757\n",
      "it:  8 x:  -0.18814607904060254 y:  0.5972528764801797\n",
      "it:  9 x:  -0.18814607716298126 y:  0.5972528680177501\n",
      "it:  10 x:  -0.18814607742281897 y:  0.5972528691888372\n",
      "it:  11 x:  -0.18814607738686093 y:  0.5972528690267744\n",
      "it:  12 x:  -0.18814607739183703 y:  0.5972528690492017\n",
      "it:  13 x:  -0.18814607739114836 y:  0.5972528690460981\n",
      "it:  14 x:  -0.18814607739124373 y:  0.5972528690465276\n",
      "it:  15 x:  -0.1881460773912305 y:  0.5972528690464681\n",
      "it:  16 x:  -0.18814607739123232 y:  0.5972528690464765\n",
      "it:  17 x:  -0.18814607739123207 y:  0.5972528690464752\n",
      "it:  18 x:  -0.18814607739123212 y:  0.5972528690464755\n",
      "it:  19 x:  -0.18814607739123212 y:  0.5972528690464753\n",
      "it:  20 x:  -0.18814607739123212 y:  0.5972528690464753\n",
      "it:  21 x:  -0.18814607739123212 y:  0.5972528690464753\n",
      "it:  22 x:  -0.18814607739123212 y:  0.5972528690464753\n",
      "it:  23 x:  -0.18814607739123212 y:  0.5972528690464753\n",
      "it:  24 x:  -0.18814607739123212 y:  0.5972528690464753\n",
      "it:  25 x:  -0.18814607739123212 y:  0.5972528690464753\n",
      "it:  26 x:  -0.18814607739123212 y:  0.5972528690464753\n",
      "it:  27 x:  -0.18814607739123212 y:  0.5972528690464753\n",
      "it:  28 x:  -0.18814607739123212 y:  0.5972528690464753\n",
      "it:  29 x:  -0.18814607739123212 y:  0.5972528690464753\n",
      "it:  30 x:  -0.18814607739123212 y:  0.5972528690464753\n",
      "it:  31 x:  -0.18814607739123212 y:  0.5972528690464753\n",
      "it:  32 x:  -0.18814607739123212 y:  0.5972528690464753\n",
      "it:  33 x:  -0.18814607739123212 y:  0.5972528690464753\n",
      "it:  34 x:  -0.18814607739123212 y:  0.5972528690464753\n",
      "it:  35 x:  -0.18814607739123212 y:  0.5972528690464753\n",
      "it:  36 x:  -0.18814607739123212 y:  0.5972528690464753\n",
      "it:  37 x:  -0.18814607739123212 y:  0.5972528690464753\n",
      "it:  38 x:  -0.18814607739123212 y:  0.5972528690464753\n",
      "it:  39 x:  -0.18814607739123212 y:  0.5972528690464753\n",
      "it:  40 x:  -0.18814607739123212 y:  0.5972528690464753\n",
      "it:  41 x:  -0.18814607739123212 y:  0.5972528690464753\n",
      "it:  42 x:  -0.18814607739123212 y:  0.5972528690464753\n",
      "it:  43 x:  -0.18814607739123212 y:  0.5972528690464753\n",
      "it:  44 x:  -0.18814607739123212 y:  0.5972528690464753\n",
      "it:  45 x:  -0.18814607739123212 y:  0.5972528690464753\n",
      "it:  46 x:  -0.18814607739123212 y:  0.5972528690464753\n",
      "it:  47 x:  -0.18814607739123212 y:  0.5972528690464753\n",
      "it:  48 x:  -0.18814607739123212 y:  0.5972528690464753\n",
      "it:  49 x:  -0.18814607739123212 y:  0.5972528690464753\n",
      "it:  50 x:  -0.18814607739123212 y:  0.5972528690464753\n",
      "it:  51 x:  -0.18814607739123212 y:  0.5972528690464753\n",
      "it:  52 x:  -0.18814607739123212 y:  0.5972528690464753\n",
      "it:  53 x:  -0.18814607739123212 y:  0.5972528690464753\n",
      "it:  54 x:  -0.18814607739123212 y:  0.5972528690464753\n",
      "it:  55 x:  -0.18814607739123212 y:  0.5972528690464753\n",
      "it:  56 x:  -0.18814607739123212 y:  0.5972528690464753\n",
      "it:  57 x:  -0.18814607739123212 y:  0.5972528690464753\n",
      "it:  58 x:  -0.18814607739123212 y:  0.5972528690464753\n",
      "it:  59 x:  -0.18814607739123212 y:  0.5972528690464753\n",
      "it:  60 x:  -0.18814607739123212 y:  0.5972528690464753\n",
      "it:  61 x:  -0.18814607739123212 y:  0.5972528690464753\n",
      "it:  62 x:  -0.18814607739123212 y:  0.5972528690464753\n",
      "it:  63 x:  -0.18814607739123212 y:  0.5972528690464753\n",
      "it:  64 x:  -0.18814607739123212 y:  0.5972528690464753\n",
      "it:  65 x:  -0.18814607739123212 y:  0.5972528690464753\n",
      "it:  66 x:  -0.18814607739123212 y:  0.5972528690464753\n",
      "it:  67 x:  -0.18814607739123212 y:  0.5972528690464753\n",
      "it:  68 x:  -0.18814607739123212 y:  0.5972528690464753\n",
      "it:  69 x:  -0.18814607739123212 y:  0.5972528690464753\n",
      "it:  70 x:  -0.18814607739123212 y:  0.5972528690464753\n",
      "it:  71 x:  -0.18814607739123212 y:  0.5972528690464753\n",
      "it:  72 x:  -0.18814607739123212 y:  0.5972528690464753\n",
      "it:  73 x:  -0.18814607739123212 y:  0.5972528690464753\n",
      "it:  74 x:  -0.18814607739123212 y:  0.5972528690464753\n",
      "it:  75 x:  -0.18814607739123212 y:  0.5972528690464753\n",
      "it:  76 x:  -0.18814607739123212 y:  0.5972528690464753\n",
      "it:  77 x:  -0.18814607739123212 y:  0.5972528690464753\n",
      "it:  78 x:  -0.18814607739123212 y:  0.5972528690464753\n",
      "it:  79 x:  -0.18814607739123212 y:  0.5972528690464753\n",
      "it:  80 x:  -0.18814607739123212 y:  0.5972528690464753\n",
      "it:  81 x:  -0.18814607739123212 y:  0.5972528690464753\n",
      "it:  82 x:  -0.18814607739123212 y:  0.5972528690464753\n",
      "it:  83 x:  -0.18814607739123212 y:  0.5972528690464753\n",
      "it:  84 x:  -0.18814607739123212 y:  0.5972528690464753\n",
      "it:  85 x:  -0.18814607739123212 y:  0.5972528690464753\n",
      "it:  86 x:  -0.18814607739123212 y:  0.5972528690464753\n",
      "it:  87 x:  -0.18814607739123212 y:  0.5972528690464753\n",
      "it:  88 x:  -0.18814607739123212 y:  0.5972528690464753\n",
      "it:  89 x:  -0.18814607739123212 y:  0.5972528690464753\n",
      "it:  90 x:  -0.18814607739123212 y:  0.5972528690464753\n",
      "it:  91 x:  -0.18814607739123212 y:  0.5972528690464753\n",
      "it:  92 x:  -0.18814607739123212 y:  0.5972528690464753\n",
      "it:  93 x:  -0.18814607739123212 y:  0.5972528690464753\n",
      "it:  94 x:  -0.18814607739123212 y:  0.5972528690464753\n",
      "it:  95 x:  -0.18814607739123212 y:  0.5972528690464753\n",
      "it:  96 x:  -0.18814607739123212 y:  0.5972528690464753\n",
      "it:  97 x:  -0.18814607739123212 y:  0.5972528690464753\n",
      "it:  98 x:  -0.18814607739123212 y:  0.5972528690464753\n",
      "it:  99 x:  -0.18814607739123212 y:  0.5972528690464753\n"
     ]
    }
   ],
   "source": [
    "import math \n",
    "xn = 0\n",
    "yn = 0\n",
    "\n",
    "\n",
    "for i in range(100):\n",
    "  yn = (-xn**2)+xn+0.75\n",
    "  xn = (xn**2-yn)/(5*yn)\n",
    "  print('it: ', i, 'x: ',xn, 'y: ', yn)\n",
    "  # for if -0.00001 < yn  < 0.00001 and -0.00001 < xn  < 0.00001:\n",
    "  #         fin =0"
   ]
  },
  {
   "cell_type": "code",
   "execution_count": null,
   "metadata": {
    "id": "cbh9ILXTLQKl"
   },
   "outputs": [],
   "source": []
  }
 ],
 "metadata": {
  "colab": {
   "collapsed_sections": [],
   "name": "Clase20-05-21.ipynb",
   "provenance": []
  },
  "kernelspec": {
   "display_name": "Python 3",
   "language": "python",
   "name": "python3"
  },
  "language_info": {
   "codemirror_mode": {
    "name": "ipython",
    "version": 3
   },
   "file_extension": ".py",
   "mimetype": "text/x-python",
   "name": "python",
   "nbconvert_exporter": "python",
   "pygments_lexer": "ipython3",
   "version": "3.9.5"
  }
 },
 "nbformat": 4,
 "nbformat_minor": 1
}
